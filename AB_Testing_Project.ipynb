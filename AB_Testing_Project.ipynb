{
 "cells": [
  {
   "cell_type": "code",
   "execution_count": 1,
   "id": "a816b32a",
   "metadata": {},
   "outputs": [],
   "source": [
    "# Comparison of Bidding Methods Conversion with AB Test"
   ]
  },
  {
   "cell_type": "code",
   "execution_count": 2,
   "id": "389b13e6",
   "metadata": {},
   "outputs": [],
   "source": [
    "# Business Problem"
   ]
  },
  {
   "cell_type": "code",
   "execution_count": 3,
   "id": "402eee1d",
   "metadata": {},
   "outputs": [],
   "source": [
    "# Facebook recently launched an alternative to the existing \"maximumbidding\" type of bidding\n",
    "# introduced a new type of bidding, \"average bidding\". One of our clients is bombabomba.com,\n",
    "# decided to test this new feature and found thataveragebidding converts more than maximumbidding\n",
    "# He wants to do an A/B test to see if it brings \n",
    "# A/B testing has been going on for 1 month and\n",
    "# bombabomba.com is now waiting for you to analyze the results of this A/B test for Bombabomba.com\n",
    "# the ultimate measure of success is Purchase. Therefore, for statistical tests, the focus should be on the Purchasemetric."
   ]
  },
  {
   "cell_type": "code",
   "execution_count": 4,
   "id": "331a5557",
   "metadata": {},
   "outputs": [],
   "source": [
    "# Dataset Story"
   ]
  },
  {
   "cell_type": "code",
   "execution_count": 5,
   "id": "d8c0461e",
   "metadata": {},
   "outputs": [],
   "source": [
    "# What users see and click on in this data set containing a company's website information\n",
    "# includes information such as the number of advertisements, as well as information on earnings from them.\n",
    "#There are two separate data sets: Control and Test group.These data sets are located on separate sheets ofab_testing.xlsxexcel.\n",
    "# Maximum Bidding was applied to the control group and Average Bidding to the test group.\n",
    "\n",
    "# impression: Number of ad views\n",
    "# Click: Number of clicks on the displayed ad\n",
    "# Purchase Number of products purchased after clicked ads\n",
    "# Earning: Earnings from purchased products"
   ]
  },
  {
   "cell_type": "code",
   "execution_count": 6,
   "id": "3ad56e6e",
   "metadata": {},
   "outputs": [
    {
     "name": "stdout",
     "output_type": "stream",
     "text": [
      "Requirement already satisfied: statsmodels in c:\\anaconda3\\lib\\site-packages (0.13.5)\n",
      "Requirement already satisfied: scipy>=1.3 in c:\\anaconda3\\lib\\site-packages (from statsmodels) (1.10.1)\n",
      "Requirement already satisfied: patsy>=0.5.2 in c:\\anaconda3\\lib\\site-packages (from statsmodels) (0.5.3)\n",
      "Requirement already satisfied: pandas>=0.25 in c:\\anaconda3\\lib\\site-packages (from statsmodels) (1.5.3)\n",
      "Requirement already satisfied: numpy>=1.17 in c:\\anaconda3\\lib\\site-packages (from statsmodels) (1.23.5)\n",
      "Requirement already satisfied: packaging>=21.3 in c:\\anaconda3\\lib\\site-packages (from statsmodels) (22.0)\n",
      "Requirement already satisfied: python-dateutil>=2.8.1 in c:\\anaconda3\\lib\\site-packages (from pandas>=0.25->statsmodels) (2.8.2)\n",
      "Requirement already satisfied: pytz>=2020.1 in c:\\anaconda3\\lib\\site-packages (from pandas>=0.25->statsmodels) (2022.7)\n",
      "Requirement already satisfied: six in c:\\anaconda3\\lib\\site-packages (from patsy>=0.5.2->statsmodels) (1.16.0)\n"
     ]
    }
   ],
   "source": [
    "!pip install statsmodels"
   ]
  },
  {
   "cell_type": "code",
   "execution_count": 7,
   "id": "30e2948e",
   "metadata": {},
   "outputs": [],
   "source": [
    "import itertools\n",
    "import numpy as np\n",
    "import pandas as pd\n",
    "import matplotlib.pyplot as plt\n",
    "import seaborn as sns\n",
    "import statsmodels.stats.api as sms\n",
    "from scipy.stats import ttest_1samp, shapiro, levene, ttest_ind, mannwhitneyu, pearsonr, spearmanr, kendalltau, f_oneway, kruskal\n",
    "from statsmodels.stats.proportion import proportions_ztest\n",
    "pd.set_option('display.max_columns', None)\n",
    "pd.set_option('display.max_rows', None)\n",
    "pd.set_option('display.float_format', lambda x: '%.5f' % x)\n",
    "import warnings\n",
    "warnings.filterwarnings(\"ignore\")"
   ]
  },
  {
   "cell_type": "code",
   "execution_count": 95,
   "id": "30a53665",
   "metadata": {},
   "outputs": [],
   "source": [
    "data_control = pd.read_csv(\"ab_testing_control.csv\", sep = \";\")"
   ]
  },
  {
   "cell_type": "code",
   "execution_count": 96,
   "id": "6ac208d7",
   "metadata": {},
   "outputs": [
    {
     "data": {
      "text/html": [
       "<div>\n",
       "<style scoped>\n",
       "    .dataframe tbody tr th:only-of-type {\n",
       "        vertical-align: middle;\n",
       "    }\n",
       "\n",
       "    .dataframe tbody tr th {\n",
       "        vertical-align: top;\n",
       "    }\n",
       "\n",
       "    .dataframe thead th {\n",
       "        text-align: right;\n",
       "    }\n",
       "</style>\n",
       "<table border=\"1\" class=\"dataframe\">\n",
       "  <thead>\n",
       "    <tr style=\"text-align: right;\">\n",
       "      <th></th>\n",
       "      <th>Impression</th>\n",
       "      <th>Click</th>\n",
       "      <th>Purchase</th>\n",
       "      <th>Earning</th>\n",
       "      <th>Unnamed: 4</th>\n",
       "      <th>Unnamed: 5</th>\n",
       "      <th>Unnamed: 6</th>\n",
       "      <th>Unnamed: 7</th>\n",
       "      <th>Unnamed: 8</th>\n",
       "      <th>Unnamed: 9</th>\n",
       "      <th>Unnamed: 10</th>\n",
       "      <th>Unnamed: 11</th>\n",
       "      <th>Unnamed: 12</th>\n",
       "      <th>Unnamed: 13</th>\n",
       "    </tr>\n",
       "  </thead>\n",
       "  <tbody>\n",
       "    <tr>\n",
       "      <th>0</th>\n",
       "      <td>82529</td>\n",
       "      <td>6090</td>\n",
       "      <td>665</td>\n",
       "      <td>2311</td>\n",
       "      <td>NaN</td>\n",
       "      <td>NaN</td>\n",
       "      <td>NaN</td>\n",
       "      <td>NaN</td>\n",
       "      <td>NaN</td>\n",
       "      <td>NaN</td>\n",
       "      <td>NaN</td>\n",
       "      <td>NaN</td>\n",
       "      <td>NaN</td>\n",
       "      <td>NaN</td>\n",
       "    </tr>\n",
       "    <tr>\n",
       "      <th>1</th>\n",
       "      <td>98050</td>\n",
       "      <td>3383</td>\n",
       "      <td>315</td>\n",
       "      <td>1743</td>\n",
       "      <td>NaN</td>\n",
       "      <td>NaN</td>\n",
       "      <td>NaN</td>\n",
       "      <td>NaN</td>\n",
       "      <td>NaN</td>\n",
       "      <td>NaN</td>\n",
       "      <td>NaN</td>\n",
       "      <td>NaN</td>\n",
       "      <td>NaN</td>\n",
       "      <td>NaN</td>\n",
       "    </tr>\n",
       "    <tr>\n",
       "      <th>2</th>\n",
       "      <td>82696</td>\n",
       "      <td>4168</td>\n",
       "      <td>458</td>\n",
       "      <td>1798</td>\n",
       "      <td>NaN</td>\n",
       "      <td>NaN</td>\n",
       "      <td>NaN</td>\n",
       "      <td>NaN</td>\n",
       "      <td>NaN</td>\n",
       "      <td>NaN</td>\n",
       "      <td>NaN</td>\n",
       "      <td>NaN</td>\n",
       "      <td>NaN</td>\n",
       "      <td>NaN</td>\n",
       "    </tr>\n",
       "    <tr>\n",
       "      <th>3</th>\n",
       "      <td>109914</td>\n",
       "      <td>4911</td>\n",
       "      <td>487</td>\n",
       "      <td>1696</td>\n",
       "      <td>NaN</td>\n",
       "      <td>NaN</td>\n",
       "      <td>NaN</td>\n",
       "      <td>NaN</td>\n",
       "      <td>NaN</td>\n",
       "      <td>NaN</td>\n",
       "      <td>NaN</td>\n",
       "      <td>NaN</td>\n",
       "      <td>NaN</td>\n",
       "      <td>NaN</td>\n",
       "    </tr>\n",
       "    <tr>\n",
       "      <th>4</th>\n",
       "      <td>108458</td>\n",
       "      <td>5988</td>\n",
       "      <td>441</td>\n",
       "      <td>1544</td>\n",
       "      <td>NaN</td>\n",
       "      <td>NaN</td>\n",
       "      <td>NaN</td>\n",
       "      <td>NaN</td>\n",
       "      <td>NaN</td>\n",
       "      <td>NaN</td>\n",
       "      <td>NaN</td>\n",
       "      <td>NaN</td>\n",
       "      <td>NaN</td>\n",
       "      <td>NaN</td>\n",
       "    </tr>\n",
       "  </tbody>\n",
       "</table>\n",
       "</div>"
      ],
      "text/plain": [
       "   Impression  Click  Purchase  Earning  Unnamed: 4  Unnamed: 5  Unnamed: 6  \\\n",
       "0       82529   6090       665     2311         NaN         NaN         NaN   \n",
       "1       98050   3383       315     1743         NaN         NaN         NaN   \n",
       "2       82696   4168       458     1798         NaN         NaN         NaN   \n",
       "3      109914   4911       487     1696         NaN         NaN         NaN   \n",
       "4      108458   5988       441     1544         NaN         NaN         NaN   \n",
       "\n",
       "   Unnamed: 7  Unnamed: 8  Unnamed: 9  Unnamed: 10  Unnamed: 11  Unnamed: 12  \\\n",
       "0         NaN         NaN         NaN          NaN          NaN          NaN   \n",
       "1         NaN         NaN         NaN          NaN          NaN          NaN   \n",
       "2         NaN         NaN         NaN          NaN          NaN          NaN   \n",
       "3         NaN         NaN         NaN          NaN          NaN          NaN   \n",
       "4         NaN         NaN         NaN          NaN          NaN          NaN   \n",
       "\n",
       "   Unnamed: 13  \n",
       "0          NaN  \n",
       "1          NaN  \n",
       "2          NaN  \n",
       "3          NaN  \n",
       "4          NaN  "
      ]
     },
     "execution_count": 96,
     "metadata": {},
     "output_type": "execute_result"
    }
   ],
   "source": [
    "data_control.head()"
   ]
  },
  {
   "cell_type": "code",
   "execution_count": 97,
   "id": "d966dbd6",
   "metadata": {},
   "outputs": [],
   "source": [
    "data_control= data_control.drop(columns=['Unnamed: 4', 'Unnamed: 5','Unnamed: 6','Unnamed: 7','Unnamed: 8',\n",
    "                         'Unnamed: 9', 'Unnamed: 10', 'Unnamed: 11', 'Unnamed: 12', 'Unnamed: 13'])"
   ]
  },
  {
   "cell_type": "code",
   "execution_count": 98,
   "id": "a5a1354b",
   "metadata": {},
   "outputs": [],
   "source": [
    "df_control= data_control.copy()"
   ]
  },
  {
   "cell_type": "code",
   "execution_count": 99,
   "id": "67b493b9",
   "metadata": {},
   "outputs": [
    {
     "data": {
      "text/html": [
       "<div>\n",
       "<style scoped>\n",
       "    .dataframe tbody tr th:only-of-type {\n",
       "        vertical-align: middle;\n",
       "    }\n",
       "\n",
       "    .dataframe tbody tr th {\n",
       "        vertical-align: top;\n",
       "    }\n",
       "\n",
       "    .dataframe thead th {\n",
       "        text-align: right;\n",
       "    }\n",
       "</style>\n",
       "<table border=\"1\" class=\"dataframe\">\n",
       "  <thead>\n",
       "    <tr style=\"text-align: right;\">\n",
       "      <th></th>\n",
       "      <th>Impression</th>\n",
       "      <th>Click</th>\n",
       "      <th>Purchase</th>\n",
       "      <th>Earning</th>\n",
       "    </tr>\n",
       "  </thead>\n",
       "  <tbody>\n",
       "    <tr>\n",
       "      <th>0</th>\n",
       "      <td>82529</td>\n",
       "      <td>6090</td>\n",
       "      <td>665</td>\n",
       "      <td>2311</td>\n",
       "    </tr>\n",
       "    <tr>\n",
       "      <th>1</th>\n",
       "      <td>98050</td>\n",
       "      <td>3383</td>\n",
       "      <td>315</td>\n",
       "      <td>1743</td>\n",
       "    </tr>\n",
       "    <tr>\n",
       "      <th>2</th>\n",
       "      <td>82696</td>\n",
       "      <td>4168</td>\n",
       "      <td>458</td>\n",
       "      <td>1798</td>\n",
       "    </tr>\n",
       "    <tr>\n",
       "      <th>3</th>\n",
       "      <td>109914</td>\n",
       "      <td>4911</td>\n",
       "      <td>487</td>\n",
       "      <td>1696</td>\n",
       "    </tr>\n",
       "    <tr>\n",
       "      <th>4</th>\n",
       "      <td>108458</td>\n",
       "      <td>5988</td>\n",
       "      <td>441</td>\n",
       "      <td>1544</td>\n",
       "    </tr>\n",
       "  </tbody>\n",
       "</table>\n",
       "</div>"
      ],
      "text/plain": [
       "   Impression  Click  Purchase  Earning\n",
       "0       82529   6090       665     2311\n",
       "1       98050   3383       315     1743\n",
       "2       82696   4168       458     1798\n",
       "3      109914   4911       487     1696\n",
       "4      108458   5988       441     1544"
      ]
     },
     "execution_count": 99,
     "metadata": {},
     "output_type": "execute_result"
    }
   ],
   "source": [
    "df_control.head()"
   ]
  },
  {
   "cell_type": "code",
   "execution_count": 100,
   "id": "5ca21689",
   "metadata": {},
   "outputs": [],
   "source": [
    "data_test = pd.read_csv(\"ab_testing_test.csv\", sep = \";\")"
   ]
  },
  {
   "cell_type": "code",
   "execution_count": 101,
   "id": "02bba0d4",
   "metadata": {},
   "outputs": [],
   "source": [
    "data_test= data_test.drop(columns=['Unnamed: 4', 'Unnamed: 5','Unnamed: 6','Unnamed: 7','Unnamed: 8',\n",
    "                         'Unnamed: 9', 'Unnamed: 10', 'Unnamed: 11', 'Unnamed: 12', 'Unnamed: 13'])"
   ]
  },
  {
   "cell_type": "code",
   "execution_count": 102,
   "id": "a495d2c0",
   "metadata": {},
   "outputs": [],
   "source": [
    "df_test= data_test.copy()"
   ]
  },
  {
   "cell_type": "code",
   "execution_count": 103,
   "id": "48811640",
   "metadata": {},
   "outputs": [
    {
     "data": {
      "text/html": [
       "<div>\n",
       "<style scoped>\n",
       "    .dataframe tbody tr th:only-of-type {\n",
       "        vertical-align: middle;\n",
       "    }\n",
       "\n",
       "    .dataframe tbody tr th {\n",
       "        vertical-align: top;\n",
       "    }\n",
       "\n",
       "    .dataframe thead th {\n",
       "        text-align: right;\n",
       "    }\n",
       "</style>\n",
       "<table border=\"1\" class=\"dataframe\">\n",
       "  <thead>\n",
       "    <tr style=\"text-align: right;\">\n",
       "      <th></th>\n",
       "      <th>Impression</th>\n",
       "      <th>Click</th>\n",
       "      <th>Purchase</th>\n",
       "      <th>Earning</th>\n",
       "    </tr>\n",
       "  </thead>\n",
       "  <tbody>\n",
       "    <tr>\n",
       "      <th>0</th>\n",
       "      <td>120104</td>\n",
       "      <td>3217</td>\n",
       "      <td>702</td>\n",
       "      <td>1940</td>\n",
       "    </tr>\n",
       "    <tr>\n",
       "      <th>1</th>\n",
       "      <td>134776</td>\n",
       "      <td>3635</td>\n",
       "      <td>834</td>\n",
       "      <td>2929</td>\n",
       "    </tr>\n",
       "    <tr>\n",
       "      <th>2</th>\n",
       "      <td>107807</td>\n",
       "      <td>3057</td>\n",
       "      <td>423</td>\n",
       "      <td>2526</td>\n",
       "    </tr>\n",
       "    <tr>\n",
       "      <th>3</th>\n",
       "      <td>116445</td>\n",
       "      <td>4650</td>\n",
       "      <td>429</td>\n",
       "      <td>2281</td>\n",
       "    </tr>\n",
       "    <tr>\n",
       "      <th>4</th>\n",
       "      <td>145083</td>\n",
       "      <td>5201</td>\n",
       "      <td>750</td>\n",
       "      <td>2782</td>\n",
       "    </tr>\n",
       "  </tbody>\n",
       "</table>\n",
       "</div>"
      ],
      "text/plain": [
       "   Impression  Click  Purchase  Earning\n",
       "0      120104   3217       702     1940\n",
       "1      134776   3635       834     2929\n",
       "2      107807   3057       423     2526\n",
       "3      116445   4650       429     2281\n",
       "4      145083   5201       750     2782"
      ]
     },
     "execution_count": 103,
     "metadata": {},
     "output_type": "execute_result"
    }
   ],
   "source": [
    "df_test.head()"
   ]
  },
  {
   "cell_type": "code",
   "execution_count": 104,
   "id": "74afe028",
   "metadata": {},
   "outputs": [],
   "source": [
    "# Data Preparation and Analysis"
   ]
  },
  {
   "cell_type": "code",
   "execution_count": 105,
   "id": "c21bfef6",
   "metadata": {},
   "outputs": [],
   "source": [
    "def check_df(dataframe):\n",
    "    print(\"-----------------------------SHAPE--------------------------\")\n",
    "    print(dataframe.shape)\n",
    "    print(\"------------------------------TYPES-------------------------\")\n",
    "    print(dataframe.dtypes)\n",
    "    print(\"------------------------------NULL--------------------------\")\n",
    "    print(dataframe.isnull().sum())\n",
    "    print(\"------------------------------DESCRIBE----------------------\")\n",
    "    print(dataframe.describe().T)"
   ]
  },
  {
   "cell_type": "code",
   "execution_count": 106,
   "id": "d4572e1f",
   "metadata": {},
   "outputs": [
    {
     "name": "stdout",
     "output_type": "stream",
     "text": [
      "-----------------------------SHAPE--------------------------\n",
      "(40, 4)\n",
      "------------------------------TYPES-------------------------\n",
      "Impression    int64\n",
      "Click         int64\n",
      "Purchase      int64\n",
      "Earning       int64\n",
      "dtype: object\n",
      "------------------------------NULL--------------------------\n",
      "Impression    0\n",
      "Click         0\n",
      "Purchase      0\n",
      "Earning       0\n",
      "dtype: int64\n",
      "------------------------------DESCRIBE----------------------\n",
      "              count         mean         std         min         25%  \\\n",
      "Impression 40.00000 101711.45000 20302.12298 45476.00000 85726.75000   \n",
      "Click      40.00000   5100.62500  1329.95777  2190.00000  4124.25000   \n",
      "Purchase   40.00000    550.90000   134.11052   267.00000   470.50000   \n",
      "Earning    40.00000   1908.57500   302.86833  1254.00000  1685.75000   \n",
      "\n",
      "                   50%          75%          max  \n",
      "Impression 99790.50000 115212.50000 147539.00000  \n",
      "Click       5001.50000   5923.50000   7959.00000  \n",
      "Purchase     531.50000    638.00000    802.00000  \n",
      "Earning     1975.00000   2120.00000   2497.00000  \n"
     ]
    }
   ],
   "source": [
    "check_df(df_control)"
   ]
  },
  {
   "cell_type": "code",
   "execution_count": 107,
   "id": "498add42",
   "metadata": {},
   "outputs": [
    {
     "name": "stdout",
     "output_type": "stream",
     "text": [
      "-----------------------------SHAPE--------------------------\n",
      "(40, 4)\n",
      "------------------------------TYPES-------------------------\n",
      "Impression    int64\n",
      "Click         int64\n",
      "Purchase      int64\n",
      "Earning       int64\n",
      "dtype: object\n",
      "------------------------------NULL--------------------------\n",
      "Impression    0\n",
      "Click         0\n",
      "Purchase      0\n",
      "Earning       0\n",
      "dtype: int64\n",
      "------------------------------DESCRIBE----------------------\n",
      "              count         mean         std         min          25%  \\\n",
      "Impression 40.00000 120512.42500 18807.46662 79034.00000 112692.25000   \n",
      "Click      40.00000   3967.55000   923.07177  1837.00000   3376.50000   \n",
      "Purchase   40.00000    582.05000   161.17516   312.00000    444.75000   \n",
      "Earning    40.00000   2514.92500   282.70791  1940.00000   2280.25000   \n",
      "\n",
      "                    50%          75%          max  \n",
      "Impression 119291.50000 132050.75000 158606.00000  \n",
      "Click        3931.50000   4660.25000   6020.00000  \n",
      "Purchase      551.00000    699.75000    890.00000  \n",
      "Earning      2544.50000   2761.75000   3171.00000  \n"
     ]
    }
   ],
   "source": [
    "check_df(df_test)"
   ]
  },
  {
   "cell_type": "code",
   "execution_count": 108,
   "id": "5ce0ad85",
   "metadata": {},
   "outputs": [],
   "source": [
    "df_control[\"group\"] = \"control\"\n",
    "df_test[\"group\"] = \"test\""
   ]
  },
  {
   "cell_type": "code",
   "execution_count": 109,
   "id": "592defde",
   "metadata": {},
   "outputs": [],
   "source": [
    "df = pd.concat([df_control, df_test], axis = 0, ignore_index = False)"
   ]
  },
  {
   "cell_type": "code",
   "execution_count": 112,
   "id": "5a7f588a",
   "metadata": {},
   "outputs": [],
   "source": [
    "# Defining the Hypothesis of A/B Testing"
   ]
  },
  {
   "cell_type": "code",
   "execution_count": 113,
   "id": "10bb4c22",
   "metadata": {},
   "outputs": [],
   "source": [
    "# H0 : M1=M2\n",
    "# There is no difference between the purchase averages of the Control group and the Test group.\n",
    "\n",
    "# H1 : M1!=M2\n",
    "# There is a difference between the purchase averages of the Control group and the Test group."
   ]
  },
  {
   "cell_type": "code",
   "execution_count": 116,
   "id": "02d281f5",
   "metadata": {},
   "outputs": [
    {
     "data": {
      "text/html": [
       "<div>\n",
       "<style scoped>\n",
       "    .dataframe tbody tr th:only-of-type {\n",
       "        vertical-align: middle;\n",
       "    }\n",
       "\n",
       "    .dataframe tbody tr th {\n",
       "        vertical-align: top;\n",
       "    }\n",
       "\n",
       "    .dataframe thead th {\n",
       "        text-align: right;\n",
       "    }\n",
       "</style>\n",
       "<table border=\"1\" class=\"dataframe\">\n",
       "  <thead>\n",
       "    <tr style=\"text-align: right;\">\n",
       "      <th></th>\n",
       "      <th>Purchase</th>\n",
       "    </tr>\n",
       "    <tr>\n",
       "      <th>group</th>\n",
       "      <th></th>\n",
       "    </tr>\n",
       "  </thead>\n",
       "  <tbody>\n",
       "    <tr>\n",
       "      <th>control</th>\n",
       "      <td>550.90000</td>\n",
       "    </tr>\n",
       "    <tr>\n",
       "      <th>test</th>\n",
       "      <td>582.05000</td>\n",
       "    </tr>\n",
       "  </tbody>\n",
       "</table>\n",
       "</div>"
      ],
      "text/plain": [
       "         Purchase\n",
       "group            \n",
       "control 550.90000\n",
       "test    582.05000"
      ]
     },
     "execution_count": 116,
     "metadata": {},
     "output_type": "execute_result"
    }
   ],
   "source": [
    "df.groupby(\"group\").agg({\"Purchase\": \"mean\"})"
   ]
  },
  {
   "cell_type": "code",
   "execution_count": 117,
   "id": "b629c3c2",
   "metadata": {},
   "outputs": [],
   "source": [
    "# Performing Hypothesis Testing"
   ]
  },
  {
   "cell_type": "code",
   "execution_count": null,
   "id": "4930aaf8",
   "metadata": {},
   "outputs": [],
   "source": [
    "# Normality Assumption and Homogeneity of Variance check."
   ]
  },
  {
   "cell_type": "code",
   "execution_count": 118,
   "id": "2810ddab",
   "metadata": {},
   "outputs": [],
   "source": [
    "# Normality Assumption\n",
    "# H0: The assumption of normal distribution is satisfied.\n",
    "# H1: Assumption of normal distribution is not met.\n",
    "# p < 0.05 H0 can be rejected\n",
    "# p > 0.05 H0 cannot be rejected"
   ]
  },
  {
   "cell_type": "code",
   "execution_count": 122,
   "id": "cea03ff3",
   "metadata": {},
   "outputs": [
    {
     "name": "stdout",
     "output_type": "stream",
     "text": [
      "Test Stat = 0.9774, p-value = 0.5929\n"
     ]
    }
   ],
   "source": [
    "test_stat, pvalue = shapiro(df.loc[df[\"group\"] == \"control\", \"Purchase\"])\n",
    "print('Test Stat = %.4f, p-value = %.4f' % (test_stat, pvalue))"
   ]
  },
  {
   "cell_type": "code",
   "execution_count": 123,
   "id": "09823af7",
   "metadata": {},
   "outputs": [],
   "source": [
    "# p-value > 0.05 : The H0 cannot be rejected.\n",
    "# The normality assumption is satisfied."
   ]
  },
  {
   "cell_type": "code",
   "execution_count": 124,
   "id": "e97ba03b",
   "metadata": {},
   "outputs": [],
   "source": [
    "#Homogeneity of Variance\n",
    "# H0: The variances are homogeneous.\n",
    "# H1: The variances are not homogeneous.\n",
    "# p < 0.05 H0 can be rejected\n",
    "# p > 0.05 H0 cannot be rejected"
   ]
  },
  {
   "cell_type": "code",
   "execution_count": 126,
   "id": "b281c8a8",
   "metadata": {},
   "outputs": [
    {
     "name": "stdout",
     "output_type": "stream",
     "text": [
      "Test Stat = 2.6403, p-value = 0.1082\n"
     ]
    }
   ],
   "source": [
    "test_stat, pvalue = levene(df.loc[df[\"group\"] == \"control\", \"Purchase\"],\n",
    "                          df.loc[df[\"group\"] == \"test\", \"Purchase\"])\n",
    "print('Test Stat = %.4f, p-value = %.4f' % (test_stat, pvalue))"
   ]
  },
  {
   "cell_type": "code",
   "execution_count": 127,
   "id": "fce3810a",
   "metadata": {},
   "outputs": [],
   "source": [
    "# p-value > 0.05 : The H0 cannot be rejected.\n",
    "# The variances are homogeneous."
   ]
  },
  {
   "cell_type": "code",
   "execution_count": 128,
   "id": "f203c952",
   "metadata": {},
   "outputs": [],
   "source": [
    "# An independent two-sample t-test (parametric test) is conducted as the assumptions are satisfied."
   ]
  },
  {
   "cell_type": "code",
   "execution_count": 130,
   "id": "6466ee15",
   "metadata": {},
   "outputs": [
    {
     "name": "stdout",
     "output_type": "stream",
     "text": [
      "Test Stat = -0.9396, p-value = 0.3503\n"
     ]
    }
   ],
   "source": [
    "test_stat, pvalue = ttest_ind(df.loc[df[\"group\"] == \"control\", \"Purchase\"],\n",
    "                             df.loc[df[\"group\"] == \"test\", \"Purchase\"],\n",
    "                             equal_var = True)\n",
    "print('Test Stat = %.4f, p-value = %.4f' % (test_stat, pvalue))"
   ]
  },
  {
   "cell_type": "code",
   "execution_count": 132,
   "id": "6bb898b0",
   "metadata": {},
   "outputs": [],
   "source": [
    "# p-value > 0.05 : The H0 cannot be rejected.\n",
    "# H0 : M1=M2\n",
    "# There is no difference between the purchase averages of the Control group and the Test group."
   ]
  },
  {
   "cell_type": "code",
   "execution_count": null,
   "id": "69c089bd",
   "metadata": {},
   "outputs": [],
   "source": []
  },
  {
   "cell_type": "code",
   "execution_count": null,
   "id": "44dbc6c4",
   "metadata": {},
   "outputs": [],
   "source": []
  },
  {
   "cell_type": "code",
   "execution_count": null,
   "id": "992311e9",
   "metadata": {},
   "outputs": [],
   "source": []
  },
  {
   "cell_type": "code",
   "execution_count": null,
   "id": "3f503d71",
   "metadata": {},
   "outputs": [],
   "source": []
  },
  {
   "cell_type": "code",
   "execution_count": null,
   "id": "1f9c5a38",
   "metadata": {},
   "outputs": [],
   "source": []
  },
  {
   "cell_type": "code",
   "execution_count": null,
   "id": "c6f1a970",
   "metadata": {},
   "outputs": [],
   "source": []
  },
  {
   "cell_type": "code",
   "execution_count": null,
   "id": "200f93ff",
   "metadata": {},
   "outputs": [],
   "source": []
  },
  {
   "cell_type": "code",
   "execution_count": null,
   "id": "b7061d20",
   "metadata": {},
   "outputs": [],
   "source": []
  }
 ],
 "metadata": {
  "kernelspec": {
   "display_name": "Python 3 (ipykernel)",
   "language": "python",
   "name": "python3"
  },
  "language_info": {
   "codemirror_mode": {
    "name": "ipython",
    "version": 3
   },
   "file_extension": ".py",
   "mimetype": "text/x-python",
   "name": "python",
   "nbconvert_exporter": "python",
   "pygments_lexer": "ipython3",
   "version": "3.9.13"
  }
 },
 "nbformat": 4,
 "nbformat_minor": 5
}
